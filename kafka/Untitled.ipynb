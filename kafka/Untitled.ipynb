{
 "cells": [
  {
   "cell_type": "code",
   "execution_count": 2,
   "id": "187b025e-9066-4916-8841-5596c6249ee3",
   "metadata": {},
   "outputs": [
    {
     "name": "stdout",
     "output_type": "stream",
     "text": [
      "Collecting kafka\n",
      "  Using cached kafka-1.3.5-py2.py3-none-any.whl (207 kB)\n",
      "Installing collected packages: kafka\n",
      "Successfully installed kafka-1.3.5\n"
     ]
    }
   ],
   "source": [
    "!pip install kafka --user"
   ]
  },
  {
   "cell_type": "code",
   "execution_count": 3,
   "id": "eb1e0264-059f-4f5c-b01f-0337a9069ec6",
   "metadata": {},
   "outputs": [],
   "source": [
    "import kafka"
   ]
  },
  {
   "cell_type": "code",
   "execution_count": 7,
   "id": "36aa2620-96a9-405f-aae9-bc5435d6ed2e",
   "metadata": {},
   "outputs": [
    {
     "data": {
      "text/plain": [
       "['papa_topic',\n",
       " '__amazon_msk_canary_state',\n",
       " 'pizza_topic',\n",
       " '__consumer_offsets',\n",
       " '__amazon_msk_canary',\n",
       " 'tutorsAWSKafka']"
      ]
     },
     "execution_count": 7,
     "metadata": {},
     "output_type": "execute_result"
    }
   ],
   "source": [
    "from kafka.admin import KafkaAdminClient, NewTopic\n",
    "admin_client = KafkaAdminClient(bootstrap_servers=[\"b-1.demo-cluster-1.9q7lp7.c1.kafka.eu-west-1.amazonaws.com:9094\",\n",
    "\"b-2.demo-cluster-1.9q7lp7.c1.kafka.eu-west-1.amazonaws.com:9094\"],\n",
    "client_id='test_id',\n",
    "security_protocol=\"SSL\", \n",
    "\n",
    ")\n",
    "\n",
    "topic_list = []\n",
    "topic_list.append(NewTopic(name=\"chanel_topic\", num_partitions=1, replication_factor=2))\n",
    "admin_client.create_topics(new_topics=topic_list, validate_only=False)\n",
    "\n",
    "admin_client.list_topics()"
   ]
  },
  {
   "cell_type": "code",
   "execution_count": 18,
   "id": "074232ee-9e50-4bda-a01c-0e2934c6f331",
   "metadata": {},
   "outputs": [
    {
     "data": {
      "text/plain": [
       "['papa_topic',\n",
       " 'news_test_topic',\n",
       " 'pizza_topic',\n",
       " '__consumer_offsets',\n",
       " '__amazon_msk_canary',\n",
       " 'groupHu_speech',\n",
       " '__amazon_msk_canary_state',\n",
       " 'new_test_topic',\n",
       " 'jakinda_topic',\n",
       " 'tutorsAWSKafka']"
      ]
     },
     "execution_count": 18,
     "metadata": {},
     "output_type": "execute_result"
    }
   ],
   "source": [
    "from kafka.admin import KafkaAdminClient, NewTopic\n",
    "admin_client = KafkaAdminClient(bootstrap_servers=[\"b-1.demo-cluster-1.9q7lp7.c1.kafka.eu-west-1.amazonaws.com:9092\",\"b-2.demo-cluster-1.9q7lp7.c1.kafka.eu-west-1.amazonaws.com:9092\"],\n",
    "client_id='tests_id',\n",
    "\n",
    "\n",
    ")\n",
    "\n",
    "topic_list = []\n",
    "topic_list.append(NewTopic(name=\"groupHu_speech\", num_partitions=1, replication_factor=2))\n",
    "admin_client.create_topics(new_topics=topic_list, validate_only=False)\n",
    "\n",
    "admin_client.list_topics()"
   ]
  },
  {
   "cell_type": "code",
   "execution_count": 23,
   "id": "8117387b-e301-404c-9fa5-6998a0c7015f",
   "metadata": {},
   "outputs": [
    {
     "data": {
      "text/plain": [
       "['papa_topic',\n",
       " 'test_g6_topic',\n",
       " 'pizza_topic',\n",
       " '__consumer_offsets',\n",
       " '__amazon_msk_canary',\n",
       " 'example_topic_group2',\n",
       " 'groupHu_speech',\n",
       " 'fumbani_topic',\n",
       " 'news_test_topic',\n",
       " '__amazon_msk_canary_state',\n",
       " 'new_test_topic',\n",
       " 'fu_topic',\n",
       " 'jakinda_topic',\n",
       " 'tutorsAWSKafka']"
      ]
     },
     "execution_count": 23,
     "metadata": {},
     "output_type": "execute_result"
    }
   ],
   "source": [
    "admin_client.list_topics()"
   ]
  },
  {
   "cell_type": "code",
   "execution_count": 22,
   "id": "5e65d85c-fb2a-4635-a2a4-f27a442ff09c",
   "metadata": {},
   "outputs": [
    {
     "name": "stdout",
     "output_type": "stream",
     "text": [
      "name\n",
      "name\n",
      "name\n"
     ]
    },
    {
     "ename": "KeyboardInterrupt",
     "evalue": "",
     "output_type": "error",
     "traceback": [
      "\u001b[0;31m---------------------------------------------------------------------------\u001b[0m",
      "\u001b[0;31mKeyboardInterrupt\u001b[0m                         Traceback (most recent call last)",
      "\u001b[0;32m/tmp/ipykernel_17425/1324696918.py\u001b[0m in \u001b[0;36m<module>\u001b[0;34m\u001b[0m\n\u001b[1;32m     16\u001b[0m         \u001b[0mprint\u001b[0m\u001b[0;34m(\u001b[0m\u001b[0mregistered_user\u001b[0m\u001b[0;34m)\u001b[0m\u001b[0;34m\u001b[0m\u001b[0;34m\u001b[0m\u001b[0m\n\u001b[1;32m     17\u001b[0m         \u001b[0mproducer\u001b[0m\u001b[0;34m.\u001b[0m\u001b[0msend\u001b[0m\u001b[0;34m(\u001b[0m\u001b[0;34m\"groupHu_speech\"\u001b[0m\u001b[0;34m,\u001b[0m\u001b[0mregistered_user\u001b[0m\u001b[0;34m)\u001b[0m\u001b[0;34m\u001b[0m\u001b[0;34m\u001b[0m\u001b[0m\n\u001b[0;32m---> 18\u001b[0;31m         \u001b[0mtime\u001b[0m\u001b[0;34m.\u001b[0m\u001b[0msleep\u001b[0m\u001b[0;34m(\u001b[0m\u001b[0;36m4\u001b[0m\u001b[0;34m)\u001b[0m\u001b[0;34m\u001b[0m\u001b[0;34m\u001b[0m\u001b[0m\n\u001b[0m\u001b[1;32m     19\u001b[0m \u001b[0;34m\u001b[0m\u001b[0m\n",
      "\u001b[0;31mKeyboardInterrupt\u001b[0m: "
     ]
    }
   ],
   "source": [
    "from kafka import KafkaProducer\n",
    "import json\n",
    "from data import get_registered_user\n",
    "import time\n",
    "\n",
    "def json_serializer(data):\n",
    "    return json.dumps(data).encode(\"utf-8\")\n",
    "    \n",
    "\n",
    "producer=KafkaProducer(bootstrap_servers=[\"b-2.demo-cluster-1.9q7lp7.c1.kafka.eu-west-1.amazonaws.com:9092\"],value_serializer=json_serializer)\n",
    "\n",
    "\n",
    "if __name__ == \"__main__\":\n",
    "    while 1==1:\n",
    "        registered_user = \"name\"\n",
    "        print(registered_user)\n",
    "        producer.send(\"groupHu_speech\",registered_user)\n",
    "        time.sleep(4)\n",
    "        \n"
   ]
  },
  {
   "cell_type": "code",
   "execution_count": null,
   "id": "58aa7c4a-43ca-4e7c-be5b-abbef84bc87c",
   "metadata": {},
   "outputs": [],
   "source": []
  }
 ],
 "metadata": {
  "kernelspec": {
   "display_name": "Python 3 (ipykernel)",
   "language": "python",
   "name": "python3"
  },
  "language_info": {
   "codemirror_mode": {
    "name": "ipython",
    "version": 3
   },
   "file_extension": ".py",
   "mimetype": "text/x-python",
   "name": "python",
   "nbconvert_exporter": "python",
   "pygments_lexer": "ipython3",
   "version": "3.9.5"
  }
 },
 "nbformat": 4,
 "nbformat_minor": 5
}
